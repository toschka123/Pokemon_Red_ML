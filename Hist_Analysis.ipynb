{
 "cells": [
  {
   "cell_type": "code",
   "execution_count": 2,
   "metadata": {},
   "outputs": [],
   "source": [
    "import numpy as np\n",
    "import matplotlib.pyplot as plt\n",
    "import pandas as pd\n",
    "import math\n",
    "\n",
    "hist = np.load(\"arrays.npz\")\n",
    "hist = [hist[key] for key in hist]\n",
    "flat_hist = []\n",
    "for h in hist:\n",
    "    flat_hist.append(h.reshape(-1))"
   ]
  },
  {
   "cell_type": "code",
   "execution_count": 3,
   "metadata": {},
   "outputs": [],
   "source": [
    "distances = []\n",
    "for i in range(0, len(flat_hist)-1):\n",
    "    distances.append(np.linalg.norm(flat_hist[-1] - flat_hist[i+1]))\n"
   ]
  },
  {
   "cell_type": "code",
   "execution_count": 4,
   "metadata": {},
   "outputs": [
    {
     "data": {
      "text/plain": [
       "(array([171.,   0.,   5.,  74., 631.,   0.,   0.,  52., 915., 151.]),\n",
       " array([0.00000000e+00, 5.66545081e+09, 1.13309016e+10, 1.69963524e+10,\n",
       "        2.26618032e+10, 2.83272541e+10, 3.39927049e+10, 3.96581557e+10,\n",
       "        4.53236065e+10, 5.09890573e+10, 5.66545081e+10]),\n",
       " <BarContainer object of 10 artists>)"
      ]
     },
     "execution_count": 4,
     "metadata": {},
     "output_type": "execute_result"
    },
    {
     "data": {
      "image/png": "[encoded data removed]",
      "text/plain": [
       "<Figure size 640x480 with 1 Axes>"
      ]
     },
     "metadata": {},
     "output_type": "display_data"
    }
   ],
   "source": [
    "\n",
    "plt.hist(distances)\n"
   ]
  },
  {
   "cell_type": "code",
   "execution_count": 46,
   "metadata": {},
   "outputs": [],
   "source": [
    "big_dist = []\n",
    "for i in distances:\n",
    "    if i > 2*math.e**24:\n",
    "        big_dist.append(i)\n"
   ]
  },
  {
   "cell_type": "code",
   "execution_count": 47,
   "metadata": {},
   "outputs": [
    {
     "name": "stdout",
     "output_type": "stream",
     "text": [
      "143\n"
     ]
    }
   ],
   "source": [
    "print(len(big_dist))"
   ]
  },
  {
   "cell_type": "code",
   "execution_count": 7,
   "metadata": {},
   "outputs": [
    {
     "name": "stdout",
     "output_type": "stream",
     "text": [
      "25769803266.000088\n"
     ]
    }
   ],
   "source": [
    "print(distances[10])"
   ]
  },
  {
   "cell_type": "code",
   "execution_count": 8,
   "metadata": {},
   "outputs": [],
   "source": [
    "df_dist = pd.DataFrame(distances)"
   ]
  },
  {
   "cell_type": "code",
   "execution_count": 9,
   "metadata": {},
   "outputs": [
    {
     "data": {
      "text/plain": [
       "0           \n",
       "4.743946e+10    687\n",
       "0.000000e+00    154\n",
       "4.743946e+10    142\n",
       "2.272683e+10     98\n",
       "2.272683e+10     96\n",
       "               ... \n",
       "2.272683e+10      1\n",
       "2.504375e+10      1\n",
       "2.352450e+10      1\n",
       "4.029036e+10      1\n",
       "2.429600e+10      1\n",
       "Name: count, Length: 104, dtype: int64"
      ]
     },
     "execution_count": 9,
     "metadata": {},
     "output_type": "execute_result"
    }
   ],
   "source": [
    "df_dist.value_counts()"
   ]
  },
  {
   "cell_type": "code",
   "execution_count": null,
   "metadata": {},
   "outputs": [],
   "source": []
  }
 ],
 "metadata": {
  "kernelspec": {
   "display_name": "base",
   "language": "python",
   "name": "python3"
  },
  "language_info": {
   "codemirror_mode": {
    "name": "ipython",
    "version": 3
   },
   "file_extension": ".py",
   "mimetype": "text/x-python",
   "name": "python",
   "nbconvert_exporter": "python",
   "pygments_lexer": "ipython3",
   "version": "3.12.9"
  }
 },
 "nbformat": 4,
 "nbformat_minor": 2
}
